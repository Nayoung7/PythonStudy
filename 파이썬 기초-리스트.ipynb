{
 "cells": [
  {
   "cell_type": "code",
   "execution_count": 1,
   "id": "19fa04d1",
   "metadata": {},
   "outputs": [
    {
     "name": "stdout",
     "output_type": "stream",
     "text": [
      "['a', 'b', 'c']\n",
      "b\n"
     ]
    }
   ],
   "source": [
    "list1 = [1,2,3,['a','b','c']]\n",
    "temp = list1[3]\n",
    "print(temp)\n",
    "print(list1[3][1])"
   ]
  },
  {
   "cell_type": "code",
   "execution_count": 2,
   "id": "c108f5dd",
   "metadata": {},
   "outputs": [
    {
     "data": {
      "text/plain": [
       "['사과', '수박', '오렌지']"
      ]
     },
     "execution_count": 2,
     "metadata": {},
     "output_type": "execute_result"
    }
   ],
   "source": [
    "list = ['사과', '포도', ['수박','멜론'],'복숭아','딸기','오렌지']\n",
    "apple = list[0]\n",
    "wm = list[2][0]\n",
    "ora = list[5]\n",
    "choice_list=[]\n",
    "choice_list.append(apple)\n",
    "choice_list.append(wm)\n",
    "choice_list.append(ora)\n",
    "choice_list"
   ]
  },
  {
   "cell_type": "code",
   "execution_count": 3,
   "id": "9136374b",
   "metadata": {},
   "outputs": [],
   "source": [
    "music_list = []"
   ]
  },
  {
   "cell_type": "code",
   "execution_count": 8,
   "id": "e7d82f1b",
   "metadata": {},
   "outputs": [
    {
     "name": "stdout",
     "output_type": "stream",
     "text": [
      "인덱스위치 입력 >> 3\n",
      "노래 제목 입력 >> 라일락\n",
      "가수 입력 >> 아이유\n",
      "music_list: [['Butter', '방탄'], ['헤픈 우연', '헤이즈'], ['롤린', '브레이브걸스'], ['라일락', '아이유']]\n"
     ]
    }
   ],
   "source": [
    "loc = int(input('인덱스위치 입력 >> '))\n",
    "song = input('노래 제목 입력 >> ')\n",
    "singer = input('가수 입력 >> ')\n",
    "music_list.insert(loc,[song,singer])\n",
    "print('music_list:',music_list)"
   ]
  },
  {
   "cell_type": "code",
   "execution_count": 9,
   "id": "7225c61a",
   "metadata": {},
   "outputs": [
    {
     "data": {
      "text/plain": [
       "[1, 2, 3, 4, 7]"
      ]
     },
     "execution_count": 9,
     "metadata": {},
     "output_type": "execute_result"
    }
   ],
   "source": [
    "array = [1,2,3,4,5]\n",
    "array[4] = 7\n",
    "array"
   ]
  },
  {
   "cell_type": "code",
   "execution_count": 10,
   "id": "1fe804d4",
   "metadata": {},
   "outputs": [
    {
     "data": {
      "text/plain": [
       "[1, ['a', 'b', 'c'], 3, 4, 7]"
      ]
     },
     "execution_count": 10,
     "metadata": {},
     "output_type": "execute_result"
    }
   ],
   "source": [
    "array[1] = ['a','b','c']\n",
    "array"
   ]
  },
  {
   "cell_type": "code",
   "execution_count": 11,
   "id": "3d9257c6",
   "metadata": {},
   "outputs": [
    {
     "data": {
      "text/plain": [
       "[1, ['a', 'b', 'c'], 3, 'd', 'e', 'f', 'g']"
      ]
     },
     "execution_count": 11,
     "metadata": {},
     "output_type": "execute_result"
    }
   ],
   "source": [
    "array[3:]=['d','e','f','g']\n",
    "array"
   ]
  },
  {
   "cell_type": "code",
   "execution_count": 12,
   "id": "2e88802a",
   "metadata": {},
   "outputs": [
    {
     "data": {
      "text/plain": [
       "['h', 'i', 'j', ['a', 'b', 'c'], 3, 'd', 'e', 'f', 'g']"
      ]
     },
     "execution_count": 12,
     "metadata": {},
     "output_type": "execute_result"
    }
   ],
   "source": [
    "array[:1] = ['h','i','j']\n",
    "array"
   ]
  },
  {
   "cell_type": "code",
   "execution_count": 13,
   "id": "e5b823b2",
   "metadata": {},
   "outputs": [
    {
     "data": {
      "text/plain": [
       "[0, 2, 3, 4, 5]"
      ]
     },
     "execution_count": 13,
     "metadata": {},
     "output_type": "execute_result"
    }
   ],
   "source": [
    "list7 = [0,1,2,3,4,5]\n",
    "del list7[1]\n",
    "list7"
   ]
  },
  {
   "cell_type": "code",
   "execution_count": 14,
   "id": "ba6ddf4f",
   "metadata": {},
   "outputs": [
    {
     "data": {
      "text/plain": [
       "[0, 5]"
      ]
     },
     "execution_count": 14,
     "metadata": {},
     "output_type": "execute_result"
    }
   ],
   "source": [
    "list7 = [0,1,2,3,4,5]\n",
    "del list7[1:5]\n",
    "list7"
   ]
  },
  {
   "cell_type": "code",
   "execution_count": 15,
   "id": "312b0b61",
   "metadata": {},
   "outputs": [
    {
     "data": {
      "text/plain": [
       "['a', 'c', 'd', 'e']"
      ]
     },
     "execution_count": 15,
     "metadata": {},
     "output_type": "execute_result"
    }
   ],
   "source": [
    "list7 = ['a','b','c','d','e']\n",
    "list7.remove('b')\n",
    "list7"
   ]
  },
  {
   "cell_type": "code",
   "execution_count": 16,
   "id": "390cc8db",
   "metadata": {},
   "outputs": [
    {
     "data": {
      "text/plain": [
       "[9, 77, 13, 51, 100, 3]"
      ]
     },
     "execution_count": 16,
     "metadata": {},
     "output_type": "execute_result"
    }
   ],
   "source": [
    "list8 = [9,77,13,51,100,3]\n",
    "list8"
   ]
  },
  {
   "cell_type": "code",
   "execution_count": 17,
   "id": "d86ddf92",
   "metadata": {},
   "outputs": [
    {
     "data": {
      "text/plain": [
       "[3, 9, 13, 51, 77, 100]"
      ]
     },
     "execution_count": 17,
     "metadata": {},
     "output_type": "execute_result"
    }
   ],
   "source": [
    "list8.sort()\n",
    "list8"
   ]
  },
  {
   "cell_type": "code",
   "execution_count": 19,
   "id": "39f668ac",
   "metadata": {},
   "outputs": [
    {
     "data": {
      "text/plain": [
       "[3, 9, 13, 51, 77, 100]"
      ]
     },
     "execution_count": 19,
     "metadata": {},
     "output_type": "execute_result"
    }
   ],
   "source": [
    "list8.reverse()\n",
    "list8"
   ]
  },
  {
   "cell_type": "code",
   "execution_count": 21,
   "id": "4dab5c07",
   "metadata": {},
   "outputs": [],
   "source": [
    "list10 = [9,77,13,51,100,3]\n",
    "list10.sort()\n",
    "list10.reverse()"
   ]
  },
  {
   "cell_type": "code",
   "execution_count": 22,
   "id": "ebb65eca",
   "metadata": {},
   "outputs": [
    {
     "data": {
      "text/plain": [
       "[100, 77, 51, 13, 9, 3]"
      ]
     },
     "execution_count": 22,
     "metadata": {},
     "output_type": "execute_result"
    }
   ],
   "source": [
    "list10"
   ]
  },
  {
   "cell_type": "code",
   "execution_count": 24,
   "id": "1c69bd7a",
   "metadata": {},
   "outputs": [
    {
     "data": {
      "text/plain": [
       "[3, 9, 13, 51, 77, 100]"
      ]
     },
     "execution_count": 24,
     "metadata": {},
     "output_type": "execute_result"
    }
   ],
   "source": [
    "list10.sort(reverse = False)\n",
    "list10"
   ]
  },
  {
   "cell_type": "code",
   "execution_count": 25,
   "id": "389fc8a5",
   "metadata": {},
   "outputs": [
    {
     "data": {
      "text/plain": [
       "2"
      ]
     },
     "execution_count": 25,
     "metadata": {},
     "output_type": "execute_result"
    }
   ],
   "source": [
    "list11 = ['a','b','c','d','e','f']\n",
    "list11.index('c')"
   ]
  },
  {
   "cell_type": "code",
   "execution_count": 26,
   "id": "f4155831",
   "metadata": {},
   "outputs": [
    {
     "data": {
      "text/plain": [
       "'f'"
      ]
     },
     "execution_count": 26,
     "metadata": {},
     "output_type": "execute_result"
    }
   ],
   "source": [
    "list12 = ['a','b','c','d','e','f']\n",
    "list12.pop()"
   ]
  },
  {
   "cell_type": "code",
   "execution_count": 27,
   "id": "0f271aa1",
   "metadata": {},
   "outputs": [
    {
     "data": {
      "text/plain": [
       "['a', 'b', 'c', 'd', 'e']"
      ]
     },
     "execution_count": 27,
     "metadata": {},
     "output_type": "execute_result"
    }
   ],
   "source": [
    "list12"
   ]
  },
  {
   "cell_type": "code",
   "execution_count": 28,
   "id": "03e5788a",
   "metadata": {},
   "outputs": [
    {
     "data": {
      "text/plain": [
       "3"
      ]
     },
     "execution_count": 28,
     "metadata": {},
     "output_type": "execute_result"
    }
   ],
   "source": [
    "list13 = [0,1,2]\n",
    "len(list13)"
   ]
  },
  {
   "cell_type": "code",
   "execution_count": 33,
   "id": "36369c54",
   "metadata": {},
   "outputs": [
    {
     "name": "stdout",
     "output_type": "stream",
     "text": [
      "**************************************************\n",
      "검색할 문자를 입력하세요 >> 거봉\n",
      "거봉는 리스트에 들어있지 않습니다.\n",
      "**************************************************\n"
     ]
    }
   ],
   "source": [
    "lst = ['딸기','바나나','수박','체리','포도']\n",
    "print('*'*50)\n",
    "word = input('검색할 문자를 입력하세요 >> ')\n",
    "\n",
    "if word in lst:\n",
    "    print(f'{word}는 리스트의 {lst.index(word)}번째 인덱스에 들어있습니다.')\n",
    "else:\n",
    "    print(f'{word}는 리스트에 들어있지 않습니다.')\n",
    "print('*'*50)"
   ]
  },
  {
   "cell_type": "code",
   "execution_count": 38,
   "id": "62cf959a",
   "metadata": {},
   "outputs": [
    {
     "name": "stdout",
     "output_type": "stream",
     "text": [
      "****************************************\n",
      "검색할 문자를 입력하세요 : isnt'\n",
      "'isnt''는 문자열에 들어있지 않습니다.\n"
     ]
    }
   ],
   "source": [
    "s = 'Hi, My name is Mihee'\n",
    "print('*'*40)\n",
    "word = input('검색할 문자를 입력하세요 : ')\n",
    "\n",
    "if word in s:\n",
    "    print(f'\\'{word}\\'는 {s.count(word)}번 들어있습니다.')\n",
    "else:\n",
    "    print(f'\\'{word}\\'는 문자열에 들어있지 않습니다.')"
   ]
  },
  {
   "cell_type": "code",
   "execution_count": null,
   "id": "fdf3c918",
   "metadata": {},
   "outputs": [],
   "source": []
  }
 ],
 "metadata": {
  "kernelspec": {
   "display_name": "Python 3 (ipykernel)",
   "language": "python",
   "name": "python3"
  },
  "language_info": {
   "codemirror_mode": {
    "name": "ipython",
    "version": 3
   },
   "file_extension": ".py",
   "mimetype": "text/x-python",
   "name": "python",
   "nbconvert_exporter": "python",
   "pygments_lexer": "ipython3",
   "version": "3.9.7"
  }
 },
 "nbformat": 4,
 "nbformat_minor": 5
}
