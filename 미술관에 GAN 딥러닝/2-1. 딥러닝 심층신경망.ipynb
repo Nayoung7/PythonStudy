{
 "cells": [
  {
   "cell_type": "markdown",
   "id": "04e49551",
   "metadata": {},
   "source": [
    "# 첫 번재 심층 신경망"
   ]
  },
  {
   "cell_type": "markdown",
   "id": "0bcb6d86",
   "metadata": {},
   "source": [
    "## 라이브러리 임포트"
   ]
  },
  {
   "cell_type": "code",
   "execution_count": 1,
   "id": "b393de5b",
   "metadata": {},
   "outputs": [],
   "source": [
    "import numpy as np\n",
    "import matplotlib.pyplot as plt\n",
    "\n",
    "from keras.layers import Input, Flatten, Dense, Conv2D\n",
    "from keras.models import Model\n",
    "from keras.optimizers import Adam\n",
    "from keras.utils import to_categorical\n",
    "\n",
    "from keras.datasets import cifar10\n",
    "# 6만개의 이미지로 구성되어 있고 각 이미지는 10개의 클래스 중 하나로 분류되어 있음"
   ]
  },
  {
   "cell_type": "markdown",
   "id": "7d00d006",
   "metadata": {},
   "source": [
    "## 데이터 적재"
   ]
  },
  {
   "cell_type": "code",
   "execution_count": 2,
   "id": "bbcb5c80",
   "metadata": {},
   "outputs": [
    {
     "name": "stdout",
     "output_type": "stream",
     "text": [
      "Downloading data from https://www.cs.toronto.edu/~kriz/cifar-10-python.tar.gz\n",
      "170498071/170498071 [==============================] - 10s 0us/step\n",
      "(50000, 32, 32, 3)\n",
      "(50000, 1)\n",
      "(10000, 32, 32, 3)\n",
      "(10000, 1)\n"
     ]
    }
   ],
   "source": [
    "(X_train, y_train), (X_test, y_test) = cifar10.load_data()\n",
    "\n",
    "# numpy 배열\n",
    "print(X_train.shape)\n",
    "print(y_train.shape)\n",
    "print(X_test.shape)\n",
    "print(y_test.shape)"
   ]
  },
  {
   "cell_type": "code",
   "execution_count": 3,
   "id": "5ff26a1b",
   "metadata": {},
   "outputs": [],
   "source": [
    "NUM_CLASSES = 10"
   ]
  },
  {
   "cell_type": "code",
   "execution_count": 4,
   "id": "813a55d8",
   "metadata": {},
   "outputs": [],
   "source": [
    "# 기본적으로 이미지 데이터는 픽셀 채널마다 0~255 사이의 정수로 구성됨\n",
    "# 신경망은 입력이 -1~1 사이 범위에 놓여 있을 때 가장 잘 동작하기 때문에 데이터를 255로 나눔\n",
    "X_train = X_train.astype('float32')/255.0\n",
    "X_test = X_test.astype('float32')/255.0\n",
    "\n",
    "# 이미지의 정수 레이블을 원핫인코딩 벡터로 바꿈\n",
    "y_train = to_categorical(y_train, NUM_CLASSES)\n",
    "y_test = to_categorical(y_test, NUM_CLASSES)"
   ]
  },
  {
   "cell_type": "code",
   "execution_count": 5,
   "id": "b81b33bf",
   "metadata": {},
   "outputs": [
    {
     "data": {
      "text/plain": [
       "0.36862746"
      ]
     },
     "execution_count": 5,
     "metadata": {},
     "output_type": "execute_result"
    }
   ],
   "source": [
    "# 첫번째 차원 : 데이터셋에 있는 이미지의 인덱스\n",
    "# 두번째 차원 : 이미지의 높이\n",
    "# 세번째 차원 : 이미지의 너비\n",
    "# 네번째 차원 : 컬러 채널(RGB이미지이므로 빨강, 초록, 파랑)  => 4차원 텐서\n",
    "\n",
    "# 인덱스 54 이미지에서 (12,13) 위치에 해당하는 픽셀의 초록 채널(1) 값을 의미함\n",
    "X_train[54, 12, 13, 1]"
   ]
  },
  {
   "cell_type": "markdown",
   "id": "c0241c72",
   "metadata": {},
   "source": [
    "## 모델 만들기"
   ]
  },
  {
   "cell_type": "code",
   "execution_count": null,
   "id": "b096dc1d",
   "metadata": {},
   "outputs": [],
   "source": [
    "# Sequential 모델을 사용한 네트워크\n",
    "# 일렬로 층을 쌓은 네트워크를 빠르게 만들 때 사용하기 좋음\n",
    "\n",
    "model = Sequential([\n",
    "    Dense(200, activation='relu', input_shape=(32,32,3)),\n",
    "    Flatten(),\n",
    "    Dense(150, activation='relu'),\n",
    "    Dense(10, activation='softmax')\n",
    "])"
   ]
  },
  {
   "cell_type": "code",
   "execution_count": null,
   "id": "0646f7ce",
   "metadata": {},
   "outputs": [],
   "source": [
    "# 함수형 API(Model)를 사용한 네트워크\n",
    "# 한 층이 여러개의 별도의 층으로 전달되거나 한 층이 여러 층으로부터 입력 받을때 사용하기 좋음. 유연성\n",
    "\n",
    "# Input층 : 네트워크의 시작점. 입력 데이터 크기를 튜플로 알려주어야함. batch_size 지정하지 않음.\n",
    "    # Input 층에 임의의 이미지 개수를 전달할 수 있기 때문에 batch_size는 필요하지 않음\n",
    "input_layer = Input(shape=(32,32,3))\n",
    "\n",
    "# Flatten층 : 입력을 하나의 벡터로 펼침 >> 결과 벡터의 길이 : 32 x 32 x 3 = 3072\n",
    "    # 뒤따르는 Dense 층이 다차원 배열이 아니라 평평한 입력을 기대하기 때문\n",
    "x = Flatten()(input_layer)\n",
    "\n",
    "# Dense 층 : 이전 층과 완전하게 연결되는 유닛을 가지고 있음. 연결마다 하나의(양수 또는 음수인) 가중치가 동반됨\n",
    "    # 유닛의 출력은 이전 층으로부터 받은 입려과 가중치를 곱하여 더한 것\n",
    "    # 비선형 활성화 함수를 통과하고 다음 층으로 전달됨 \n",
    "x = Dense(units=200, activation='relu')(x)\n",
    "x = Dense(units=150, activation='relu')(x)\n",
    "\n",
    "output_layer = Dense(units=10, activation='softmax')(x)\n",
    "\n",
    "model = Model(input_layer, output_layer)"
   ]
  }
 ],
 "metadata": {
  "kernelspec": {
   "display_name": "generative",
   "language": "python",
   "name": "generative"
  },
  "language_info": {
   "codemirror_mode": {
    "name": "ipython",
    "version": 3
   },
   "file_extension": ".py",
   "mimetype": "text/x-python",
   "name": "python",
   "nbconvert_exporter": "python",
   "pygments_lexer": "ipython3",
   "version": "3.10.4"
  },
  "toc": {
   "base_numbering": 1,
   "nav_menu": {},
   "number_sections": true,
   "sideBar": true,
   "skip_h1_title": false,
   "title_cell": "Table of Contents",
   "title_sidebar": "Contents",
   "toc_cell": false,
   "toc_position": {},
   "toc_section_display": true,
   "toc_window_display": false
  }
 },
 "nbformat": 4,
 "nbformat_minor": 5
}
