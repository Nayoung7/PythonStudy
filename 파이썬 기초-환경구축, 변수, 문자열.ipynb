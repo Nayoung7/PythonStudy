{
 "cells": [
  {
   "cell_type": "code",
   "execution_count": 1,
   "id": "fcc21e62",
   "metadata": {},
   "outputs": [
    {
     "name": "stdout",
     "output_type": "stream",
     "text": [
      "300\n"
     ]
    }
   ],
   "source": [
    "x,y = 100,200\n",
    "sum = x + y\n",
    "print(sum)"
   ]
  },
  {
   "cell_type": "code",
   "execution_count": 2,
   "id": "b67ae241",
   "metadata": {},
   "outputs": [
    {
     "name": "stdout",
     "output_type": "stream",
     "text": [
      "hello world!\n"
     ]
    }
   ],
   "source": [
    "print('hello world!')"
   ]
  },
  {
   "cell_type": "code",
   "execution_count": 3,
   "id": "65e723dd",
   "metadata": {},
   "outputs": [
    {
     "name": "stdout",
     "output_type": "stream",
     "text": [
      "True\n"
     ]
    }
   ],
   "source": [
    "print(5<10)"
   ]
  },
  {
   "cell_type": "code",
   "execution_count": 4,
   "id": "58dfa014",
   "metadata": {},
   "outputs": [
    {
     "name": "stdout",
     "output_type": "stream",
     "text": [
      "False\n"
     ]
    }
   ],
   "source": [
    "print(5>10)"
   ]
  },
  {
   "cell_type": "code",
   "execution_count": 5,
   "id": "f608cf67",
   "metadata": {},
   "outputs": [
    {
     "name": "stdout",
     "output_type": "stream",
     "text": [
      "3\n"
     ]
    }
   ],
   "source": [
    "num = 3\n",
    "print(num)"
   ]
  },
  {
   "cell_type": "code",
   "execution_count": 6,
   "id": "535a2ca5",
   "metadata": {},
   "outputs": [
    {
     "name": "stdout",
     "output_type": "stream",
     "text": [
      "25\n",
      "77\n"
     ]
    }
   ],
   "source": [
    "num2 = 25\n",
    "num3 = 77\n",
    "print(num2)\n",
    "print(num3)"
   ]
  },
  {
   "cell_type": "code",
   "execution_count": 10,
   "id": "73ee043a",
   "metadata": {},
   "outputs": [
    {
     "data": {
      "text/plain": [
       "3.12"
      ]
     },
     "execution_count": 10,
     "metadata": {},
     "output_type": "execute_result"
    }
   ],
   "source": [
    "num3 = 3.1425\n",
    "num4 = 1.25\n",
    "num5 = 3.12\n",
    "num5"
   ]
  },
  {
   "cell_type": "code",
   "execution_count": 12,
   "id": "452ae1e5",
   "metadata": {},
   "outputs": [
    {
     "data": {
      "text/plain": [
       "'Easy python'"
      ]
     },
     "execution_count": 12,
     "metadata": {},
     "output_type": "execute_result"
    }
   ],
   "source": [
    "str1 = 'Funny python'\n",
    "str1\n",
    "str2 = 'Easy python'\n",
    "str2"
   ]
  },
  {
   "cell_type": "code",
   "execution_count": 13,
   "id": "fa5ed65c",
   "metadata": {},
   "outputs": [
    {
     "name": "stdout",
     "output_type": "stream",
     "text": [
      "10\n",
      "15\n"
     ]
    }
   ],
   "source": [
    "a = 10\n",
    "b = 15\n",
    "print(a)\n",
    "print(b)"
   ]
  },
  {
   "cell_type": "code",
   "execution_count": 14,
   "id": "f7a4f1f9",
   "metadata": {},
   "outputs": [
    {
     "name": "stdout",
     "output_type": "stream",
     "text": [
      "10\n",
      "15\n"
     ]
    }
   ],
   "source": [
    "a,b = 10, 15\n",
    "print(a)\n",
    "print(b)"
   ]
  },
  {
   "cell_type": "code",
   "execution_count": 15,
   "id": "09943ab2",
   "metadata": {},
   "outputs": [
    {
     "name": "stdout",
     "output_type": "stream",
     "text": [
      "python\n",
      "python\n"
     ]
    }
   ],
   "source": [
    "str1 = str2 = 'python'\n",
    "print(str1)\n",
    "print(str2)"
   ]
  },
  {
   "cell_type": "code",
   "execution_count": 16,
   "id": "441523d5",
   "metadata": {},
   "outputs": [
    {
     "name": "stdout",
     "output_type": "stream",
     "text": [
      "300\n"
     ]
    }
   ],
   "source": [
    "x = 100\n",
    "y = 200\n",
    "sum = x + y\n",
    "print(sum)"
   ]
  },
  {
   "cell_type": "code",
   "execution_count": 17,
   "id": "9142c012",
   "metadata": {},
   "outputs": [
    {
     "name": "stdout",
     "output_type": "stream",
     "text": [
      "she\"s gone\n"
     ]
    }
   ],
   "source": [
    "s1 = 'she\"s gone'\n",
    "print(s1)"
   ]
  },
  {
   "cell_type": "code",
   "execution_count": 19,
   "id": "35cd7c01",
   "metadata": {},
   "outputs": [
    {
     "name": "stdout",
     "output_type": "stream",
     "text": [
      "날짜:  2020년 3월 3일\n",
      "날씨:  맑음\n"
     ]
    }
   ],
   "source": [
    "day = \"2020년 3월 3일의 날씨는 맑음입니다.\"\n",
    "print('날짜: ', day[:11])\n",
    "print('날씨: ', day[-6:-4])"
   ]
  },
  {
   "cell_type": "code",
   "execution_count": 22,
   "id": "aef11c02",
   "metadata": {},
   "outputs": [
    {
     "name": "stdout",
     "output_type": "stream",
     "text": [
      "100와 200의 합은 300입니다.\n",
      "100와 200의 합은 300입니다\n",
      "100와 200의 합은 300입니다.\n"
     ]
    }
   ],
   "source": [
    "x = 100\n",
    "y = 200\n",
    "sum2 = x+y\n",
    "print('%d와 %d의 합은 %d입니다.'%(x,y,sum))\n",
    "print('{}와 {}의 합은 {}입니다'.format(x,y,sum))\n",
    "print(f'{x}와 {y}의 합은 {sum}입니다.')"
   ]
  },
  {
   "cell_type": "code",
   "execution_count": null,
   "id": "4669f18a",
   "metadata": {},
   "outputs": [],
   "source": []
  }
 ],
 "metadata": {
  "kernelspec": {
   "display_name": "Python 3 (ipykernel)",
   "language": "python",
   "name": "python3"
  },
  "language_info": {
   "codemirror_mode": {
    "name": "ipython",
    "version": 3
   },
   "file_extension": ".py",
   "mimetype": "text/x-python",
   "name": "python",
   "nbconvert_exporter": "python",
   "pygments_lexer": "ipython3",
   "version": "3.9.7"
  }
 },
 "nbformat": 4,
 "nbformat_minor": 5
}
