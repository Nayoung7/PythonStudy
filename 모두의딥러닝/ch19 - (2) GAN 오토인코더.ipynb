{
 "cells": [
  {
   "cell_type": "markdown",
   "id": "3309a073",
   "metadata": {},
   "source": [
    "# 오토인코더\n",
    "- GAN은 세상에 존재하지 않는 완전한 가상의 것을 만들어 내는 반면에, 오토인코더는 입력 데이터의 특징을 효율적으로 담아낸 이미지를 만들어냄"
   ]
  },
  {
   "cell_type": "code",
   "execution_count": 5,
   "id": "8d9e9174",
   "metadata": {},
   "outputs": [],
   "source": [
    "import matplotlib.pyplot as plt\n",
    "import numpy as np\n",
    "import tensorflow as tf\n",
    "\n",
    "from tensorflow.keras.models import Sequential, Model\n",
    "from tensorflow.keras.layers import Conv2D, MaxPooling2D, UpSampling2D, Input, Dense, Reshape, Flatten\n",
    "\n",
    "from tensorflow.keras.datasets import mnist"
   ]
  },
  {
   "cell_type": "code",
   "execution_count": 4,
   "id": "93790036",
   "metadata": {},
   "outputs": [],
   "source": [
    "#MNIST 데이터 셋 불러오기\n",
    "(X_train, _), (X_test, _) = mnist.load_data()\n",
    "X_train = X_train.reshape(X_train.shape[0], 28, 28, 1).astype('float32') / 255\n",
    "X_test = X_test.reshape(X_test.shape[0], 28, 28, 1).astype('float32') / 255"
   ]
  },
  {
   "cell_type": "code",
   "execution_count": 2,
   "id": "1e6dcc91",
   "metadata": {},
   "outputs": [
    {
     "name": "stdout",
     "output_type": "stream",
     "text": [
      "Model: \"sequential_1\"\n",
      "_________________________________________________________________\n",
      " Layer (type)                Output Shape              Param #   \n",
      "=================================================================\n",
      " conv2d (Conv2D)             (None, 28, 28, 16)        160       \n",
      "                                                                 \n",
      " max_pooling2d (MaxPooling2D  (None, 14, 14, 16)       0         \n",
      " )                                                               \n",
      "                                                                 \n",
      " conv2d_1 (Conv2D)           (None, 14, 14, 8)         1160      \n",
      "                                                                 \n",
      " max_pooling2d_1 (MaxPooling  (None, 7, 7, 8)          0         \n",
      " 2D)                                                             \n",
      "                                                                 \n",
      " conv2d_2 (Conv2D)           (None, 4, 4, 8)           584       \n",
      "                                                                 \n",
      " conv2d_3 (Conv2D)           (None, 4, 4, 8)           584       \n",
      "                                                                 \n",
      " up_sampling2d (UpSampling2D  (None, 8, 8, 8)          0         \n",
      " )                                                               \n",
      "                                                                 \n",
      " conv2d_4 (Conv2D)           (None, 8, 8, 8)           584       \n",
      "                                                                 \n",
      " up_sampling2d_1 (UpSampling  (None, 16, 16, 8)        0         \n",
      " 2D)                                                             \n",
      "                                                                 \n",
      " conv2d_5 (Conv2D)           (None, 14, 14, 16)        1168      \n",
      "                                                                 \n",
      " up_sampling2d_2 (UpSampling  (None, 28, 28, 16)       0         \n",
      " 2D)                                                             \n",
      "                                                                 \n",
      " conv2d_6 (Conv2D)           (None, 28, 28, 1)         145       \n",
      "                                                                 \n",
      "=================================================================\n",
      "Total params: 4,385\n",
      "Trainable params: 4,385\n",
      "Non-trainable params: 0\n",
      "_________________________________________________________________\n"
     ]
    }
   ],
   "source": [
    "# 생성자 모델 만들기\n",
    "autoencoder = Sequential()\n",
    "\n",
    "# 인코딩 부분\n",
    "    # 입력된 값의 차원을 축소시키는 인코딩 부분\n",
    "    # 입력 크기를 줄이는 방법으로 맥스 풀링 사용\n",
    "        # 풀링 : 컨볼루션 층을 통해 도출한 이미지의 특징이 크고 복잡하면 이를 다시 한 번 축소하는 과정\n",
    "        # 맥스풀링 : 정해진 구역 안에서 최댓값을 뽑아냄\n",
    "autoencoder.add(Conv2D(16, kernel_size=3, padding='same', input_shape=(28,28,1), activation='relu')) # 입력 크기 : 28x28\n",
    "autoencoder.add(MaxPooling2D(pool_size=2, padding='same')) # 크기 절반으로 감소 : 14x14\n",
    "autoencoder.add(Conv2D(8, kernel_size=3, padding='same', activation='relu'))\n",
    "autoencoder.add(MaxPooling2D(pool_size=2, padding='same')) # 크기 절반으로 감소 : 7x7\n",
    "autoencoder.add(Conv2D(8, kernel_size=3, strides=2, padding='same', activation='relu')) # 크기 감소 : 4x4\n",
    "\n",
    "# 디코딩 부분\n",
    "    # 다시 차원을 점차 늘려 입력 값과 똑같은 크기의 출력 값을 내보내는 디코딩 부분\n",
    "    # UpSampling : 크기를 늘리기 위한 것\n",
    "autoencoder.add(Conv2D(8, kernel_size=3, padding='same', activation='relu')) # 크기 : 4x4\n",
    "autoencoder.add(UpSampling2D()) # 크기 두배로 증가 : 8x8\n",
    "autoencoder.add(Conv2D(8, kernel_size=3, padding='same', activation='relu')) \n",
    "autoencoder.add(UpSampling2D()) # 크기 두배로 증가 : 16x16\n",
    "autoencoder.add(Conv2D(16, kernel_size=3, activation='relu')) # 크기 감소(padding='same'이 없어서 3x3 커널이 훑고 지나가면서 차원 2 감소) : 14x14\n",
    "autoencoder.add(UpSampling2D()) # 크기 두배로 증가 : 28x28\n",
    "autoencoder.add(Conv2D(1, kernel_size=3, padding='same', activation='sigmoid'))\n",
    "\n",
    "# 전체 구조 확인\n",
    "    # 인코딩과 디코딩이 하나의 Sequential() 함수로 쭉 이어져 오토인코더 모델이 됨\n",
    "autoencoder.summary()"
   ]
  },
  {
   "cell_type": "code",
   "execution_count": 6,
   "id": "b8f7bba5",
   "metadata": {},
   "outputs": [
    {
     "name": "stdout",
     "output_type": "stream",
     "text": [
      "Epoch 1/50\n",
      "469/469 [==============================] - 5s 5ms/step - loss: 0.2170 - val_loss: 0.1421\n",
      "Epoch 2/50\n",
      "469/469 [==============================] - 2s 5ms/step - loss: 0.1313 - val_loss: 0.1210\n",
      "Epoch 3/50\n",
      "469/469 [==============================] - 2s 5ms/step - loss: 0.1175 - val_loss: 0.1120\n",
      "Epoch 4/50\n",
      "469/469 [==============================] - 2s 5ms/step - loss: 0.1105 - val_loss: 0.1067\n",
      "Epoch 5/50\n",
      "469/469 [==============================] - 3s 5ms/step - loss: 0.1061 - val_loss: 0.1041\n",
      "Epoch 6/50\n",
      "469/469 [==============================] - 3s 5ms/step - loss: 0.1030 - val_loss: 0.1004\n",
      "Epoch 7/50\n",
      "469/469 [==============================] - 3s 5ms/step - loss: 0.1006 - val_loss: 0.0984\n",
      "Epoch 8/50\n",
      "469/469 [==============================] - 2s 5ms/step - loss: 0.0988 - val_loss: 0.0969\n",
      "Epoch 9/50\n",
      "469/469 [==============================] - 3s 5ms/step - loss: 0.0973 - val_loss: 0.0953\n",
      "Epoch 10/50\n",
      "469/469 [==============================] - 3s 5ms/step - loss: 0.0961 - val_loss: 0.0944\n",
      "Epoch 11/50\n",
      "469/469 [==============================] - 3s 5ms/step - loss: 0.0951 - val_loss: 0.0938\n",
      "Epoch 12/50\n",
      "469/469 [==============================] - 3s 5ms/step - loss: 0.0943 - val_loss: 0.0926\n",
      "Epoch 13/50\n",
      "469/469 [==============================] - 3s 5ms/step - loss: 0.0935 - val_loss: 0.0919\n",
      "Epoch 14/50\n",
      "469/469 [==============================] - 3s 5ms/step - loss: 0.0929 - val_loss: 0.0914\n",
      "Epoch 15/50\n",
      "469/469 [==============================] - 3s 5ms/step - loss: 0.0922 - val_loss: 0.0909\n",
      "Epoch 16/50\n",
      "469/469 [==============================] - 3s 5ms/step - loss: 0.0917 - val_loss: 0.0902\n",
      "Epoch 17/50\n",
      "469/469 [==============================] - 3s 5ms/step - loss: 0.0912 - val_loss: 0.0897\n",
      "Epoch 18/50\n",
      "469/469 [==============================] - 3s 5ms/step - loss: 0.0908 - val_loss: 0.0893\n",
      "Epoch 19/50\n",
      "469/469 [==============================] - 3s 5ms/step - loss: 0.0902 - val_loss: 0.0888\n",
      "Epoch 20/50\n",
      "469/469 [==============================] - 3s 5ms/step - loss: 0.0898 - val_loss: 0.0884\n",
      "Epoch 21/50\n",
      "469/469 [==============================] - 3s 5ms/step - loss: 0.0894 - val_loss: 0.0883\n",
      "Epoch 22/50\n",
      "469/469 [==============================] - 3s 5ms/step - loss: 0.0891 - val_loss: 0.0877\n",
      "Epoch 23/50\n",
      "469/469 [==============================] - 3s 5ms/step - loss: 0.0887 - val_loss: 0.0873\n",
      "Epoch 24/50\n",
      "469/469 [==============================] - 3s 5ms/step - loss: 0.0884 - val_loss: 0.0876\n",
      "Epoch 25/50\n",
      "469/469 [==============================] - 3s 5ms/step - loss: 0.0880 - val_loss: 0.0874\n",
      "Epoch 26/50\n",
      "469/469 [==============================] - 3s 5ms/step - loss: 0.0877 - val_loss: 0.0864\n",
      "Epoch 27/50\n",
      "469/469 [==============================] - 3s 5ms/step - loss: 0.0875 - val_loss: 0.0862\n",
      "Epoch 28/50\n",
      "469/469 [==============================] - 3s 5ms/step - loss: 0.0870 - val_loss: 0.0858\n",
      "Epoch 29/50\n",
      "469/469 [==============================] - 3s 5ms/step - loss: 0.0868 - val_loss: 0.0855\n",
      "Epoch 30/50\n",
      "469/469 [==============================] - 3s 5ms/step - loss: 0.0864 - val_loss: 0.0853\n",
      "Epoch 31/50\n",
      "469/469 [==============================] - 3s 5ms/step - loss: 0.0861 - val_loss: 0.0848\n",
      "Epoch 32/50\n",
      "469/469 [==============================] - 3s 5ms/step - loss: 0.0859 - val_loss: 0.0846\n",
      "Epoch 33/50\n",
      "469/469 [==============================] - 3s 5ms/step - loss: 0.0855 - val_loss: 0.0845\n",
      "Epoch 34/50\n",
      "469/469 [==============================] - 3s 6ms/step - loss: 0.0853 - val_loss: 0.0842\n",
      "Epoch 35/50\n",
      "469/469 [==============================] - 3s 5ms/step - loss: 0.0851 - val_loss: 0.0841\n",
      "Epoch 36/50\n",
      "469/469 [==============================] - 3s 6ms/step - loss: 0.0848 - val_loss: 0.0836\n",
      "Epoch 37/50\n",
      "469/469 [==============================] - 3s 5ms/step - loss: 0.0846 - val_loss: 0.0834\n",
      "Epoch 38/50\n",
      "469/469 [==============================] - 2s 5ms/step - loss: 0.0844 - val_loss: 0.0831\n",
      "Epoch 39/50\n",
      "469/469 [==============================] - 3s 5ms/step - loss: 0.0842 - val_loss: 0.0832\n",
      "Epoch 40/50\n",
      "469/469 [==============================] - 2s 5ms/step - loss: 0.0841 - val_loss: 0.0828\n",
      "Epoch 41/50\n",
      "469/469 [==============================] - 3s 5ms/step - loss: 0.0840 - val_loss: 0.0829\n",
      "Epoch 42/50\n",
      "469/469 [==============================] - 2s 5ms/step - loss: 0.0837 - val_loss: 0.0826\n",
      "Epoch 43/50\n",
      "469/469 [==============================] - 2s 5ms/step - loss: 0.0837 - val_loss: 0.0824\n",
      "Epoch 44/50\n",
      "469/469 [==============================] - 3s 5ms/step - loss: 0.0835 - val_loss: 0.0833\n",
      "Epoch 45/50\n",
      "469/469 [==============================] - 3s 5ms/step - loss: 0.0833 - val_loss: 0.0824\n",
      "Epoch 46/50\n",
      "469/469 [==============================] - 2s 5ms/step - loss: 0.0833 - val_loss: 0.0823\n",
      "Epoch 47/50\n",
      "469/469 [==============================] - 3s 5ms/step - loss: 0.0831 - val_loss: 0.0819\n",
      "Epoch 48/50\n",
      "469/469 [==============================] - 3s 5ms/step - loss: 0.0830 - val_loss: 0.0821\n",
      "Epoch 49/50\n",
      "469/469 [==============================] - 3s 5ms/step - loss: 0.0829 - val_loss: 0.0819\n",
      "Epoch 50/50\n",
      "469/469 [==============================] - 3s 5ms/step - loss: 0.0828 - val_loss: 0.0817\n"
     ]
    }
   ],
   "source": [
    "# 컴파일 및 학습 진행\n",
    "autoencoder.compile(optimizer='adam', loss='binary_crossentropy')\n",
    "\n",
    "with tf.device('/GPU:0'):\n",
    "    autoencoder.fit(X_train, X_train, epochs=50, batch_size=128, validation_data=(X_test, X_test))"
   ]
  },
  {
   "cell_type": "code",
   "execution_count": 8,
   "id": "75b71ee3",
   "metadata": {},
   "outputs": [
    {
     "name": "stdout",
     "output_type": "stream",
     "text": [
      "313/313 [==============================] - 1s 1ms/step\n"
     ]
    },
    {
     "data": {
      "image/png": "[encoded data removed]",
      "text/plain": [
       "<Figure size 504x144 with 10 Axes>"
      ]
     },
     "metadata": {
      "needs_background": "light"
     },
     "output_type": "display_data"
    }
   ],
   "source": [
    "# 학습된 결과를 출력하는 부분\n",
    "random_test = np.random.randint(X_test.shape[0], size=5)\n",
    "\n",
    "# 테스트할 이미지를 랜덤으로 호출\n",
    "ae_imgs = autoencoder.predict(X_test) # 앞서 만든 오토인코더 모델에 넣기\n",
    "\n",
    "plt.figure(figsize=(7,2)) # 출력 이미지 크기 정하기\n",
    "\n",
    "# enumerate() : 인덱스와 원소를 각각 다른 변수에 할당할 수 있음\n",
    "for i, image_idx in enumerate(random_test):\n",
    "    \n",
    "    # 랜덤으로 뽑은 이미지를 차례로 나열\n",
    "    ax = plt.subplot(2, 7, i+1)\n",
    "    \n",
    "    # 테스트할 이미지를 먼저 그대로 보여줌\n",
    "    plt.imshow(X_test[image_idx].reshape(28, 28))\n",
    "    ax.axis('off')\n",
    "    ax = plt.subplot(2, 7, 7+i+1)\n",
    "    \n",
    "    # 오토인코딩 결과를 다음 열에 입력\n",
    "    plt.imshow(ae_imgs[image_idx].reshape(28, 28))\n",
    "    ax.axis('off')\n",
    "    \n",
    "plt.show()"
   ]
  },
  {
   "cell_type": "code",
   "execution_count": null,
   "id": "c0a111a1",
   "metadata": {},
   "outputs": [],
   "source": [
    "# 첫 번째 줄이 테스트로 사용된 원본이미지\n",
    "# 두 번째 줄이 원본의 특징을 고스란히 담은 채 만들어진 오토인코더 이미지"
   ]
  }
 ],
 "metadata": {
  "kernelspec": {
   "display_name": "py39",
   "language": "python",
   "name": "py39"
  },
  "language_info": {
   "codemirror_mode": {
    "name": "ipython",
    "version": 3
   },
   "file_extension": ".py",
   "mimetype": "text/x-python",
   "name": "python",
   "nbconvert_exporter": "python",
   "pygments_lexer": "ipython3",
   "version": "3.9.12"
  },
  "toc": {
   "base_numbering": 1,
   "nav_menu": {},
   "number_sections": true,
   "sideBar": true,
   "skip_h1_title": false,
   "title_cell": "Table of Contents",
   "title_sidebar": "Contents",
   "toc_cell": false,
   "toc_position": {},
   "toc_section_display": true,
   "toc_window_display": false
  }
 },
 "nbformat": 4,
 "nbformat_minor": 5
}
