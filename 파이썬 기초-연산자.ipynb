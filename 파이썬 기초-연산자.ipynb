{
 "cells": [
  {
   "cell_type": "code",
   "execution_count": 3,
   "id": "f738cdbd",
   "metadata": {},
   "outputs": [
    {
     "name": "stdout",
     "output_type": "stream",
     "text": [
      "107\n",
      "17\n"
     ]
    }
   ],
   "source": [
    "num1 = 10\n",
    "str2 = \"7\"\n",
    "\n",
    "print(str(num1) + str2)\n",
    "print(num1 + int(str2))"
   ]
  },
  {
   "cell_type": "code",
   "execution_count": 4,
   "id": "9c280440",
   "metadata": {},
   "outputs": [
    {
     "name": "stdout",
     "output_type": "stream",
     "text": [
      "첫번째 수 입력 >> 23\n",
      "첫번째 수 입력 >> 3\n",
      "더하기 결과 :  26\n",
      "빼기 결과 :  20\n",
      "곱하기 결과 :  69\n",
      "나누기 결과 :  7.666666666666667\n"
     ]
    }
   ],
   "source": [
    "num1 = int(input('첫번째 수 입력 >> '))\n",
    "num2 = int(input('첫번째 수 입력 >> '))\n",
    "print('더하기 결과 : ', num1 + num2)\n",
    "print('빼기 결과 : ', num1 - num2)\n",
    "print('곱하기 결과 : ', num1 * num2)\n",
    "print('나누기 결과 : ', num1 / num2)"
   ]
  },
  {
   "cell_type": "code",
   "execution_count": 5,
   "id": "bac05202",
   "metadata": {},
   "outputs": [
    {
     "name": "stdout",
     "output_type": "stream",
     "text": [
      "python 점수 입력 >> 100\n",
      "머신러닝 점수 입력 >> 80\n",
      "딥러닝 점수 입력 >> 60\n",
      "합계 : 240\n",
      "평균 : 80.0\n"
     ]
    }
   ],
   "source": [
    "py = int(input('python 점수 입력 >> '))\n",
    "mr = int(input('머신러닝 점수 입력 >> '))\n",
    "dr = int(input('딥러닝 점수 입력 >> '))\n",
    "print('합계 : {}'.format(py + mr + dr))\n",
    "print('평균 : {}'.format((py + mr + dr) / 3))"
   ]
  },
  {
   "cell_type": "code",
   "execution_count": 8,
   "id": "79f153ed",
   "metadata": {},
   "outputs": [
    {
     "name": "stdout",
     "output_type": "stream",
     "text": [
      "*********연산하기**********\n",
      "정수입력 >> 10\n",
      "정수입력 >> 20\n",
      "+연산자 입력 >> +\n",
      "10 + 20 = 30\n"
     ]
    }
   ],
   "source": [
    "print('*********연산하기**********')\n",
    "num1 = int(input('정수입력 >> '))\n",
    "num2 = int(input('정수입력 >> '))\n",
    "cal = input('+연산자 입력 >> ')\n",
    "print('{} + {} = {}'.format(num1, num2, num1 + num2))"
   ]
  },
  {
   "cell_type": "code",
   "execution_count": 12,
   "id": "89080b6c",
   "metadata": {},
   "outputs": [
    {
     "name": "stdout",
     "output_type": "stream",
     "text": [
      "시간 입력 >> 3723\n",
      "1시간 2분 3초\n"
     ]
    }
   ],
   "source": [
    "time = int(input('시간 입력 >> '))\n",
    "hour = time // 3600\n",
    "time = time % 3600\n",
    "minute = time // 60\n",
    "second = time % 60\n",
    "print('{}시간 {}분 {}초'.format(hour, minute, second))"
   ]
  },
  {
   "cell_type": "code",
   "execution_count": 13,
   "id": "0fadddd9",
   "metadata": {},
   "outputs": [
    {
     "name": "stdout",
     "output_type": "stream",
     "text": [
      "안녕하세요안녕하세요\n"
     ]
    }
   ],
   "source": [
    "s = '안녕하세요'\n",
    "print(s*2)"
   ]
  },
  {
   "cell_type": "code",
   "execution_count": 14,
   "id": "787c2ac0",
   "metadata": {},
   "outputs": [
    {
     "name": "stdout",
     "output_type": "stream",
     "text": [
      "정수 입력 >> 2\n",
      "지수 입력 >> 3\n",
      "2의 3승은 8입니다.\n"
     ]
    }
   ],
   "source": [
    "num = int(input('정수 입력 >> '))\n",
    "power = int(input('지수 입력 >> '))\n",
    "print(f'{num}의 {power}승은 {num**power}입니다.')"
   ]
  },
  {
   "cell_type": "code",
   "execution_count": 15,
   "id": "3724dfc2",
   "metadata": {},
   "outputs": [
    {
     "name": "stdout",
     "output_type": "stream",
     "text": [
      "3 7\n"
     ]
    }
   ],
   "source": [
    "a = 3\n",
    "b = 7\n",
    "print(a,b)"
   ]
  },
  {
   "cell_type": "code",
   "execution_count": 16,
   "id": "869cde02",
   "metadata": {},
   "outputs": [
    {
     "name": "stdout",
     "output_type": "stream",
     "text": [
      "7 3\n"
     ]
    }
   ],
   "source": [
    "a,b = b,a\n",
    "print(a,b)"
   ]
  },
  {
   "cell_type": "code",
   "execution_count": 18,
   "id": "552f892f",
   "metadata": {},
   "outputs": [
    {
     "name": "stdout",
     "output_type": "stream",
     "text": [
      "정수입력 >> 55\n",
      "정수입력 >> 7\n",
      "a: 55\n"
     ]
    }
   ],
   "source": [
    "a = int(input('정수입력 >> '))\n",
    "b = int(input('정수입력 >> '))\n",
    "print('a:',a) if a > b else print('b:', b)"
   ]
  },
  {
   "cell_type": "code",
   "execution_count": 23,
   "id": "cf7c21b5",
   "metadata": {},
   "outputs": [
    {
     "name": "stdout",
     "output_type": "stream",
     "text": [
      "첫번째 정수 입력 >> 5\n",
      "두번째 정수 입력 >> 33\n",
      "두수의 차 : 28\n"
     ]
    }
   ],
   "source": [
    "a = int(input('첫번째 정수 입력 >> '))\n",
    "b = int(input('두번째 정수 입력 >> '))\n",
    "sub = 0\n",
    "sub = a - b if a > b else b - a\n",
    "print('두수의 차 :', sub)"
   ]
  },
  {
   "cell_type": "code",
   "execution_count": 25,
   "id": "bc55acf0",
   "metadata": {},
   "outputs": [
    {
     "name": "stdout",
     "output_type": "stream",
     "text": [
      "정수 입력 >> 22\n",
      "22는(은) 짝수입니다.\n"
     ]
    }
   ],
   "source": [
    "num = int(input('정수 입력 >> '))\n",
    "a = ''\n",
    "a = '짝수' if num % 2 == 0 else '홀수'\n",
    "print(f'{num}는(은) {a}입니다.')"
   ]
  },
  {
   "cell_type": "code",
   "execution_count": null,
   "id": "c183df06",
   "metadata": {},
   "outputs": [],
   "source": []
  }
 ],
 "metadata": {
  "kernelspec": {
   "display_name": "Python 3 (ipykernel)",
   "language": "python",
   "name": "python3"
  },
  "language_info": {
   "codemirror_mode": {
    "name": "ipython",
    "version": 3
   },
   "file_extension": ".py",
   "mimetype": "text/x-python",
   "name": "python",
   "nbconvert_exporter": "python",
   "pygments_lexer": "ipython3",
   "version": "3.9.7"
  }
 },
 "nbformat": 4,
 "nbformat_minor": 5
}
