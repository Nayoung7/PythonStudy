{
 "cells": [
  {
   "cell_type": "markdown",
   "id": "b31a2283",
   "metadata": {},
   "source": [
    "1. 파이썬의 특징 3가지\n",
    "- 인간다운 언어이다.\n",
    "- 문법이 쉬워 배우기 쉽고 코드가 간결하다.\n",
    "- 다양한 라이브러리 및 툴을 가지고 있다.\n",
    "- 머신 러닝, 인공지능 및 데이터 과학 라이브러리와 프레임 워크를 활용할 수 있다.\n",
    "- 파이썬을 필요로 하는 기업의 수요가 증가하고 있다."
   ]
  },
  {
   "cell_type": "markdown",
   "id": "63456ba6",
   "metadata": {},
   "source": [
    "2. 인터프리터 언어\n",
    "- 프로그래밍 언어의 소스 코드를 바로 실행하는 컴퓨터 프로그램 또는 환경을 뜻한다. 소스 코드를 목적 코드로 옮기는 컴파일과 대비된다. 전체를 한꺼번에 번역하는게 아니라 한줄 한줄 번역하는 것을 말한다."
   ]
  },
  {
   "cell_type": "markdown",
   "id": "beb395ea",
   "metadata": {},
   "source": [
    "3. 리스트의 함수 중 append()와 insert()의 차이점\n",
    "- append() 함수는 괄호 안에 들어간 값이 리스트의 맨 뒤에 추가되고, insert() 함수는 원하는 인덱스 위치를 지정할 수 있어서 괄호 안에 적은 인덱스 위치에 원하는 값이 추가된다."
   ]
  },
  {
   "cell_type": "markdown",
   "id": "c0f386e9",
   "metadata": {},
   "source": [
    "4. 리스트와 튜플의 차이점\n",
    "- 리스트는 순서가 있는 수정가능한 객체의 집합으로 대괄호([])로 작성되어지며 추가, 수정, 삭제가 가능하다. 튜플은 순서가 있는 집합으로 소괄호(())로 작성되어지며 추가, 수정, 삭제가 불가능하다.\n",
    "- 리스트는 가변적이며, 튜플은 불변적이다.\n",
    "- 리스트는 요소가 몇 개 들어갈지 명확하지 않은 경우에 사용하고 튜플은 요소 개수를 사전에 정확히 알고 있을 경우에 사용한다."
   ]
  },
  {
   "cell_type": "markdown",
   "id": "499d7823",
   "metadata": {},
   "source": [
    "5. 반복문(2가지)의 종류와 각각의 특징\n",
    "- 반복문의 종류 : 반복문이란 프로그램 내에서 똑같은 명령을 일정 횟수만큼 반복하여 수행하도록 제어하는 명령문으로 while문과 for문이 있다.\n",
    "- while문 : 반복 횟수가 명확하지 않을 때 사용\n",
    "- for문 : 반복 횟수가 명확할 때 사용"
   ]
  },
  {
   "cell_type": "markdown",
   "id": "a1656ced",
   "metadata": {},
   "source": [
    "6. 함수의 필요성 2가지 이상\n",
    "- 함수란 하나의 특별한 목적의 작업을 수행하기 위해 독립적으로 설계된 코드의 집합이다.\n",
    "- 함수를 사용하면 반복적인 프로그래밍을 피할 수 있다.\n",
    "- 모듈화로 인해 전체적인 코드의 가독성이 좋아진다.\n",
    "- 프로그램에 문제가 발생하거나 기능의 변경이 필요할 때에도 손쉽게 유지보수가 가능하다."
   ]
  },
  {
   "cell_type": "markdown",
   "id": "5d19b6c0",
   "metadata": {},
   "source": [
    "7번문제"
   ]
  },
  {
   "cell_type": "code",
   "execution_count": 27,
   "id": "4cbdde2f",
   "metadata": {},
   "outputs": [
    {
     "name": "stdout",
     "output_type": "stream",
     "text": [
      "====사칙연산(+,-,*,/)====\n",
      "첫 번째 정수 입력 : 98\n",
      "두 번째 정수 입력 : 0\n",
      "연산자 입력 : /\n",
      "나누는 수는 0이 될 수 없습니다.\n",
      "연산결과 : 0\n"
     ]
    }
   ],
   "source": [
    "print('====사칙연산(+,-,*,/)====')\n",
    "num1 = int(input('첫 번째 정수 입력 : '))\n",
    "num2 = int(input('두 번째 정수 입력 : '))\n",
    "op = input('연산자 입력 : ')\n",
    "result = 0\n",
    "if op == '+':\n",
    "    result = num1 + num2\n",
    "elif op == '-':\n",
    "    result = num1 - num2\n",
    "elif op == '*':\n",
    "    result = num1 * num2\n",
    "elif op == '/':\n",
    "    if num2 == 0:\n",
    "        print('나누는 수는 0이 될 수 없습니다.')\n",
    "    else:\n",
    "        result = num1 / num2\n",
    "print('연산결과 :', result)"
   ]
  },
  {
   "cell_type": "markdown",
   "id": "3196829e",
   "metadata": {},
   "source": [
    "8번문제(응용)"
   ]
  },
  {
   "cell_type": "code",
   "execution_count": 1,
   "id": "6668d42e",
   "metadata": {
    "scrolled": true
   },
   "outputs": [
    {
     "name": "stdout",
     "output_type": "stream",
     "text": [
      "2*1=2\t3*1=3\t4*1=4\t5*1=5\t6*1=6\t7*1=7\t8*1=8\t9*1=9\t\n",
      "2*2=4\t3*2=6\t4*2=8\t5*2=10\t6*2=12\t7*2=14\t8*2=16\t9*2=18\t\n",
      "2*3=6\t3*3=9\t4*3=12\t5*3=15\t6*3=18\t7*3=21\t8*3=24\t9*3=27\t\n",
      "2*4=8\t3*4=12\t4*4=16\t5*4=20\t6*4=24\t7*4=28\t8*4=32\t9*4=36\t\n",
      "2*5=10\t3*5=15\t4*5=20\t5*5=25\t6*5=30\t7*5=35\t8*5=40\t9*5=45\t\n",
      "2*6=12\t3*6=18\t4*6=24\t5*6=30\t6*6=36\t7*6=42\t8*6=48\t9*6=54\t\n",
      "2*7=14\t3*7=21\t4*7=28\t5*7=35\t6*7=42\t7*7=49\t8*7=56\t9*7=63\t\n",
      "2*8=16\t3*8=24\t4*8=32\t5*8=40\t6*8=48\t7*8=56\t8*8=64\t9*8=72\t\n",
      "2*9=18\t3*9=27\t4*9=36\t5*9=45\t6*9=54\t7*9=63\t8*9=72\t9*9=81\t\n"
     ]
    }
   ],
   "source": [
    "for i in range(1,10):\n",
    "    for j in range(2,10):\n",
    "        print(f'{j}*{i}={i*j}', end='\\t')\n",
    "    print()"
   ]
  },
  {
   "cell_type": "markdown",
   "id": "f61ce870",
   "metadata": {},
   "source": [
    "9번문제"
   ]
  },
  {
   "cell_type": "code",
   "execution_count": 41,
   "id": "427c17a1",
   "metadata": {},
   "outputs": [
    {
     "name": "stdout",
     "output_type": "stream",
     "text": [
      "짝수 2개, 홀수 7개\n"
     ]
    }
   ],
   "source": [
    "list1 = [1,30,7,9,17,3,5,23,44]\n",
    "a = b = 0\n",
    "for i in list1:\n",
    "    if i % 2 == 0:\n",
    "        a += 1\n",
    "    else:\n",
    "        b += 1\n",
    "print(f'짝수 {a}개, 홀수 {b}개')"
   ]
  },
  {
   "cell_type": "markdown",
   "id": "330eafb5",
   "metadata": {},
   "source": [
    "10번문제"
   ]
  },
  {
   "cell_type": "code",
   "execution_count": 46,
   "id": "734e939b",
   "metadata": {},
   "outputs": [],
   "source": [
    "score_list = [['김미희',89,78,99],['서대희',67,88,77],['강예진',100,55,96]]"
   ]
  },
  {
   "cell_type": "code",
   "execution_count": 26,
   "id": "b370d2f6",
   "metadata": {},
   "outputs": [
    {
     "data": {
      "text/plain": [
       "[['김미희', 89, 78, 99], ['서대희', 67, 88, 77], ['강예진', 100, 55, 96]]"
      ]
     },
     "execution_count": 26,
     "metadata": {},
     "output_type": "execute_result"
    }
   ],
   "source": [
    "score_list"
   ]
  },
  {
   "cell_type": "code",
   "execution_count": 27,
   "id": "b24c9610",
   "metadata": {
    "scrolled": true
   },
   "outputs": [
    {
     "data": {
      "text/plain": [
       "[['김미희', 89, 78, 99, 88], ['서대희', 67, 88, 77, 77], ['강예진', 100, 55, 96, 83]]"
      ]
     },
     "execution_count": 27,
     "metadata": {},
     "output_type": "execute_result"
    }
   ],
   "source": [
    "def stu_mean(score_list):\n",
    "    for i in range(0,len(score_list)):\n",
    "        sum = score_list[i][1] + score_list[i][2] + score_list[i][3]\n",
    "        if len(score_list[i]) > 4:\n",
    "            del score_list[i][4]\n",
    "        score_list[i].insert(4, sum // 3)\n",
    "        \n",
    "stu_mean(score_list)\n",
    "score_list"
   ]
  },
  {
   "cell_type": "code",
   "execution_count": 28,
   "id": "daa25153",
   "metadata": {},
   "outputs": [
    {
     "data": {
      "text/plain": [
       "[['김미희', 89, 78, 99, 88, 'B'],\n",
       " ['서대희', 67, 88, 77, 77, 'C'],\n",
       " ['강예진', 100, 55, 96, 83, 'B']]"
      ]
     },
     "execution_count": 28,
     "metadata": {},
     "output_type": "execute_result"
    }
   ],
   "source": [
    "def grade(score_list):\n",
    "    for i in range(0,len(score_list)):\n",
    "        if len(score_list[i]) > 5:\n",
    "            del score_list[i][5]\n",
    "        if score_list[i][4] >= 90:\n",
    "            score_list[i].insert(5,'A')\n",
    "        elif score_list[i][4] >= 80 and score_list[i][4] < 90:\n",
    "            score_list[i].insert(5,'B')\n",
    "        elif score_list[i][4] >= 70 and score_list[i][4] < 80:\n",
    "            score_list[i].insert(5,'C')\n",
    "        elif score_list[i][4] >= 60 and score_list[i][4] < 70:\n",
    "            score_list[i].insert(5,'D')\n",
    "        else:\n",
    "            score_list[i].insert(5,'F')\n",
    "\n",
    "grade(score_list)\n",
    "score_list"
   ]
  },
  {
   "cell_type": "code",
   "execution_count": 39,
   "id": "62f6efc7",
   "metadata": {},
   "outputs": [
    {
     "data": {
      "text/plain": [
       "[['김미희', 89, 78, 99, 88, 'B'],\n",
       " ['서대희', 67, 88, 77, 77, 'C'],\n",
       " ['강예진', 100, 55, 96, 83, 'B']]"
      ]
     },
     "execution_count": 39,
     "metadata": {},
     "output_type": "execute_result"
    }
   ],
   "source": [
    "score_list"
   ]
  },
  {
   "cell_type": "code",
   "execution_count": 48,
   "id": "fffb438d",
   "metadata": {},
   "outputs": [
    {
     "data": {
      "text/plain": [
       "['평균', 82, 80, 83]"
      ]
     },
     "execution_count": 48,
     "metadata": {},
     "output_type": "execute_result"
    }
   ],
   "source": [
    "def subject_mean(score_list):\n",
    "    avg_list = ['평균']\n",
    "    for i in range(1,4):\n",
    "        sum2 = 0\n",
    "        for j in range(0,len(score_list)):\n",
    "            sum2 = sum2 + score_list[j][i]\n",
    "        avg_list.append(sum2 // len(score_list))\n",
    "    return avg_list\n",
    "\n",
    "avg_list = subject_mean(score_list)\n",
    "avg_list"
   ]
  },
  {
   "cell_type": "code",
   "execution_count": 43,
   "id": "cac573fa",
   "metadata": {},
   "outputs": [
    {
     "name": "stdout",
     "output_type": "stream",
     "text": [
      "==================================================\n",
      "이름\tPython\tJava\tDB\t평균\t학점\n",
      "==================================================\n",
      "김미희\t89\t78\t99\t88\tB\t\n",
      "서대희\t67\t88\t77\t77\tC\t\n",
      "강예진\t100\t55\t96\t83\tB\t\n",
      "==================================================\n",
      "평균\t85\t73\t90\t"
     ]
    }
   ],
   "source": [
    "def show(score_list,avg_list):\n",
    "    print('='*50)\n",
    "    print('이름\\tPython\\tJava\\tDB\\t평균\\t학점')\n",
    "    print('='*50)\n",
    "    for i in range(0,len(score_list)):\n",
    "        for j in range(0,len(score_list[i])):\n",
    "            print(score_list[i][j], end='\\t')\n",
    "        print()\n",
    "    print('='*50)\n",
    "    for i in range(0,len(avg_list)):\n",
    "        print(avg_list[i], end='\\t')\n",
    "\n",
    "show(score_list,avg_list)"
   ]
  },
  {
   "cell_type": "code",
   "execution_count": 52,
   "id": "fbf75438",
   "metadata": {},
   "outputs": [
    {
     "name": "stdout",
     "output_type": "stream",
     "text": [
      "==================================================\n",
      "이름\tPython\tJava\tDB\t평균\t학점\n",
      "==================================================\n",
      "김미희\t89\t78\t99\t88\tB\t\n",
      "서대희\t67\t88\t77\t77\tC\t\n",
      "강예진\t100\t55\t96\t83\tB\t\n",
      "차현석\t75\t100\t60\t78\tC\t\n",
      "==================================================\n",
      "평균\t82\t80\t83\t"
     ]
    }
   ],
   "source": [
    "score_list.append(['차현석',75,100,60])\n",
    "stu_mean(score_list)\n",
    "grade(score_list)\n",
    "avg_list = subject_mean(score_list)\n",
    "show(score_list,avg_list)"
   ]
  },
  {
   "cell_type": "markdown",
   "id": "6ea68ef2",
   "metadata": {},
   "source": [
    "11번문제 "
   ]
  },
  {
   "cell_type": "code",
   "execution_count": 1,
   "id": "869a6423",
   "metadata": {},
   "outputs": [],
   "source": [
    "import pickle"
   ]
  },
  {
   "cell_type": "code",
   "execution_count": 2,
   "id": "beb72b4a",
   "metadata": {},
   "outputs": [],
   "source": [
    "with open('movie_review.pkl','rb') as f:\n",
    "    reviews = pickle.load(f)"
   ]
  },
  {
   "cell_type": "code",
   "execution_count": 53,
   "id": "1a6c3700",
   "metadata": {},
   "outputs": [],
   "source": [
    "# reviews"
   ]
  },
  {
   "cell_type": "code",
   "execution_count": 3,
   "id": "2dedf219",
   "metadata": {},
   "outputs": [
    {
     "data": {
      "text/plain": [
       "5000"
      ]
     },
     "execution_count": 3,
     "metadata": {},
     "output_type": "execute_result"
    }
   ],
   "source": [
    "len(reviews)"
   ]
  },
  {
   "cell_type": "code",
   "execution_count": 4,
   "id": "d6310fee",
   "metadata": {},
   "outputs": [
    {
     "name": "stdout",
     "output_type": "stream",
     "text": [
      "검색 할 단어 입력 : 개\n",
      "'개' 단어의 개수 : 308\n"
     ]
    }
   ],
   "source": [
    "word = input('검색 할 단어 입력 : ')\n",
    "count = 0\n",
    "for i in reviews:\n",
    "    if word in i[0]:\n",
    "        count += (i[0].count(word))\n",
    "print('\\'{}\\' 단어의 개수 : {}'.format(word,count))"
   ]
  },
  {
   "cell_type": "markdown",
   "id": "5c3c04b4",
   "metadata": {},
   "source": [
    "12번문제"
   ]
  },
  {
   "cell_type": "code",
   "execution_count": 5,
   "id": "f42f5573",
   "metadata": {},
   "outputs": [],
   "source": [
    "review_list=[]"
   ]
  },
  {
   "cell_type": "code",
   "execution_count": 6,
   "id": "1465b24b",
   "metadata": {},
   "outputs": [
    {
     "data": {
      "text/plain": [
       "97"
      ]
     },
     "execution_count": 6,
     "metadata": {},
     "output_type": "execute_result"
    }
   ],
   "source": [
    "for i in reviews:\n",
    "    if '^^' in i[0]:\n",
    "        review_list.append(i)\n",
    "len(review_list)"
   ]
  },
  {
   "cell_type": "code",
   "execution_count": 16,
   "id": "86270128",
   "metadata": {},
   "outputs": [
    {
     "name": "stdout",
     "output_type": "stream",
     "text": [
      "부정 : 11개\n",
      "긍정 : 86개\n"
     ]
    }
   ],
   "source": [
    "p = 0\n",
    "n = 0\n",
    "for i in review_list:\n",
    "    if i[1] == 0:\n",
    "        n += 1\n",
    "    else:\n",
    "        p += 1\n",
    "print(f'부정 : {n}개')\n",
    "print(f'긍정 : {p}개')"
   ]
  },
  {
   "cell_type": "code",
   "execution_count": 18,
   "id": "a7f67e12",
   "metadata": {},
   "outputs": [
    {
     "name": "stdout",
     "output_type": "stream",
     "text": [
      "- 난 우리영화를 사랑합니다....^^;\n",
      "- 윤종신 복귀는 좋았지만 이하늘은 도대체 왜 뽑혔는지 알수가없다. 참가자 실력을 따지기 전에 심사위원 인격과 실력부터 쌓고 오시길^^ 어하어허 그만좀 하고요\n",
      "- 남주인공 연기력 안습이네요... 혀짧은 소리 듣기도 너무 힘들었네요 매니저역활분이 남주인공하는게 훨 좋았겠다는 생각이 들정도... 영화 자체는 적당히 볼 만 합니다 ^^\n",
      "- 진짜재미없다..영화관에삼십분정도늦게들어갔는데사람이한명도없고..그이유를왠지알것같네..^^완전비추요\n",
      "- 생애최고의 쓰레기영화....왠만하면 평점도안쓰는대 킬링타임이라도 보지마요 보다가화남^^\n",
      "- 요즘은함께하는거본다 옴니버스식이던데 그러기엔. 가족이넘 많아요 머좀 빠져들려면 바뀌고바뀌고 전 시즌1부터 오로지 윤후 보려고보는데 점점 산만해지는 느낌이예요~~^^우리 윤후 분량좀 많이많이 늘려주세요~ ^^너무착하고예쁜 후~~^^\n",
      "- 영계환장병걸린 노땅녀의 일탈.베베꼬면서 포장하기보단 좀더 하드하게갔다면..^^\n",
      "- 예상치 못한 반전이 있어 독특한 것은 사실이나 다소 극단적으로 표현한 느낌이 있다. 이영화를 보고 어떤 통쾌함과 대리 만족을 느끼고자 하는 콰이어트맨들이 있다면 권장하고 싶지 않은 영화이다. ^^ 크리스찬 슬레이터의 연기력 때문에 2점준다..ㅋㅋ\n",
      "- 사토시의 인기 하나믿고 개봉한것 같네요^^;\n",
      "- 평점이 너무 높으므로 1만 준다...원래는 7정도^^\n",
      "- 귀여운 헨젤 앤 그레텔 ^^\n"
     ]
    }
   ],
   "source": [
    "for i in review_list:\n",
    "    if i[1] == 0:\n",
    "        print(f'- {i[0]}')"
   ]
  },
  {
   "cell_type": "code",
   "execution_count": null,
   "id": "884fc61e",
   "metadata": {},
   "outputs": [],
   "source": []
  }
 ],
 "metadata": {
  "kernelspec": {
   "display_name": "Python 3 (ipykernel)",
   "language": "python",
   "name": "python3"
  },
  "language_info": {
   "codemirror_mode": {
    "name": "ipython",
    "version": 3
   },
   "file_extension": ".py",
   "mimetype": "text/x-python",
   "name": "python",
   "nbconvert_exporter": "python",
   "pygments_lexer": "ipython3",
   "version": "3.9.7"
  }
 },
 "nbformat": 4,
 "nbformat_minor": 5
}
